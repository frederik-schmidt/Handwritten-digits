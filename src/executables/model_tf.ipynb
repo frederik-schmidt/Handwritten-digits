{
 "cells": [
  {
   "cell_type": "markdown",
   "id": "c8081217-3d31-4c42-b27e-5fdfb7e46fd0",
   "metadata": {
    "tags": []
   },
   "source": [
    "### Import modules"
   ]
  },
  {
   "cell_type": "code",
   "execution_count": 1,
   "id": "522628f1-a78f-43c3-baae-c9c757d2d0f9",
   "metadata": {},
   "outputs": [],
   "source": [
    "import numpy as np\n",
    "import tensorflow as tf\n",
    "from tensorflow.keras.datasets import mnist\n",
    "from tensorflow.keras.models import Sequential\n",
    "from tensorflow.keras.layers import Flatten, Dense\n",
    "from handwritten_digits.utils_np import test_prediction\n",
    "from handwritten_digits.data import one_hot"
   ]
  },
  {
   "cell_type": "markdown",
   "id": "b63b3fcf-f6b5-4d2a-a6ff-70a1028d0116",
   "metadata": {},
   "source": [
    "### Load data"
   ]
  },
  {
   "cell_type": "code",
   "execution_count": 2,
   "id": "1d3a36c3-b683-4bee-9f24-3e5d081a8adc",
   "metadata": {},
   "outputs": [],
   "source": [
    "(X_train, y_train), (X_test, y_test) = mnist.load_data()\n",
    "X_train = tf.keras.utils.normalize(X_train, axis=1)\n",
    "X_test = tf.keras.utils.normalize(X_test, axis=1)"
   ]
  },
  {
   "cell_type": "markdown",
   "id": "48ed9e70-5096-4c4c-af60-848c38c884f2",
   "metadata": {},
   "source": [
    "### Define model architecture"
   ]
  },
  {
   "cell_type": "code",
   "execution_count": 3,
   "id": "908d151b-07c5-488a-b9e4-a44f8a475fee",
   "metadata": {},
   "outputs": [],
   "source": [
    "model = Sequential([\n",
    "    Flatten(),\n",
    "    Dense(784, activation=tf.nn.relu),\n",
    "    Dense(128, activation=tf.nn.relu),\n",
    "    Dense(32, activation=tf.nn.relu),\n",
    "    Dense(10, activation=tf.nn.softmax),\n",
    "])"
   ]
  },
  {
   "cell_type": "markdown",
   "id": "26ef559c-cf3f-4f08-8151-9a37262cfc34",
   "metadata": {},
   "source": [
    "### Train model"
   ]
  },
  {
   "cell_type": "code",
   "execution_count": 4,
   "id": "e2ade77e-f7a0-4ae1-b040-90f598ff1888",
   "metadata": {},
   "outputs": [],
   "source": [
    "model.compile(\n",
    "    optimizer=\"SGD\",\n",
    "    loss=\"sparse_categorical_crossentropy\",\n",
    "    metrics=[\"accuracy\"]\n",
    ")"
   ]
  },
  {
   "cell_type": "code",
   "execution_count": 5,
   "id": "d3cac642-7734-4cfb-8c74-f21c670f56ff",
   "metadata": {},
   "outputs": [
    {
     "name": "stdout",
     "output_type": "stream",
     "text": [
      "Epoch 1/15\n",
      "1875/1875 [==============================] - 23s 12ms/step - loss: 0.9401 - accuracy: 0.7679\n",
      "Epoch 2/15\n",
      "1875/1875 [==============================] - 22s 12ms/step - loss: 0.3231 - accuracy: 0.9072\n",
      "Epoch 3/15\n",
      "1875/1875 [==============================] - 22s 12ms/step - loss: 0.2497 - accuracy: 0.9272\n",
      "Epoch 4/15\n",
      "1875/1875 [==============================] - 22s 12ms/step - loss: 0.2080 - accuracy: 0.9402\n",
      "Epoch 5/15\n",
      "1875/1875 [==============================] - 23s 12ms/step - loss: 0.1786 - accuracy: 0.9483\n",
      "Epoch 6/15\n",
      "1875/1875 [==============================] - 23s 12ms/step - loss: 0.1565 - accuracy: 0.9546\n",
      "Epoch 7/15\n",
      "1875/1875 [==============================] - 23s 12ms/step - loss: 0.1386 - accuracy: 0.9598\n",
      "Epoch 8/15\n",
      "1875/1875 [==============================] - 23s 12ms/step - loss: 0.1239 - accuracy: 0.9646\n",
      "Epoch 9/15\n",
      "1875/1875 [==============================] - 23s 12ms/step - loss: 0.1116 - accuracy: 0.96810s - l\n",
      "Epoch 10/15\n",
      "1875/1875 [==============================] - 23s 12ms/step - loss: 0.1012 - accuracy: 0.9712\n",
      "Epoch 11/15\n",
      "1875/1875 [==============================] - 21s 11ms/step - loss: 0.0922 - accuracy: 0.9740\n",
      "Epoch 12/15\n",
      "1875/1875 [==============================] - 23s 12ms/step - loss: 0.0841 - accuracy: 0.9759\n",
      "Epoch 13/15\n",
      "1875/1875 [==============================] - 20s 11ms/step - loss: 0.0769 - accuracy: 0.9784\n",
      "Epoch 14/15\n",
      "1875/1875 [==============================] - 21s 11ms/step - loss: 0.0705 - accuracy: 0.9803\n",
      "Epoch 15/15\n",
      "1875/1875 [==============================] - 22s 12ms/step - loss: 0.0648 - accuracy: 0.9820\n"
     ]
    },
    {
     "data": {
      "text/plain": [
       "<keras.callbacks.History at 0x13b31f37af0>"
      ]
     },
     "execution_count": 5,
     "metadata": {},
     "output_type": "execute_result"
    }
   ],
   "source": [
    "model.fit(X_train, y_train, epochs=15)"
   ]
  },
  {
   "cell_type": "markdown",
   "id": "a8224c31-128c-43da-b5c7-620affcdb3a3",
   "metadata": {},
   "source": [
    "### Evaluate model performance"
   ]
  },
  {
   "cell_type": "code",
   "execution_count": 6,
   "id": "42a73a2d-1049-4fcc-97b1-970766b95a93",
   "metadata": {},
   "outputs": [
    {
     "name": "stdout",
     "output_type": "stream",
     "text": [
      "1875/1875 [==============================] - 14s 7ms/step - loss: 0.0609 - accuracy: 0.9833\n",
      "313/313 [==============================] - 3s 8ms/step - loss: 0.0963 - accuracy: 0.9692\n"
     ]
    }
   ],
   "source": [
    "training_loss, training_accuracy = model.evaluate(x=X_train, y=y_train)\n",
    "test_loss, test_accuracy = model.evaluate(x=X_test, y=y_test)"
   ]
  },
  {
   "cell_type": "markdown",
   "id": "4b649945-a4d0-42f7-816a-23b480956152",
   "metadata": {},
   "source": [
    "### Evaluate predictions"
   ]
  },
  {
   "cell_type": "code",
   "execution_count": 7,
   "id": "554eb764-ce4f-4aed-b9c7-205f71430217",
   "metadata": {},
   "outputs": [],
   "source": [
    "# bring preds to same shape as in numpy model\n",
    "probs = model.predict(X_test)\n",
    "preds = probs == np.amax(probs, axis=1, keepdims=True)\n",
    "preds = preds.T.astype(float)"
   ]
  },
  {
   "cell_type": "code",
   "execution_count": 8,
   "id": "d205d510-6f33-4b0c-aa1a-1646c792ba4f",
   "metadata": {},
   "outputs": [],
   "source": [
    "# bring data to same shape as in numpy model\n",
    "X_test_reshaped = X_test.reshape(X_test.shape[0], -1).T\n",
    "y_test_reshaped = one_hot(y_test)"
   ]
  },
  {
   "cell_type": "code",
   "execution_count": 9,
   "id": "d5b94aac-25c7-4e94-840d-f9e288c2e0a3",
   "metadata": {},
   "outputs": [
    {
     "name": "stdout",
     "output_type": "stream",
     "text": [
      "Prediction: 1\n",
      "True label: 1\n"
     ]
    },
    {
     "data": {
      "image/png": "[encoded data removed]",
      "text/plain": [
       "<Figure size 432x288 with 1 Axes>"
      ]
     },
     "metadata": {
      "needs_background": "light"
     },
     "output_type": "display_data"
    }
   ],
   "source": [
    "random_index = np.random.randint(0, preds.shape[1])\n",
    "test_prediction(\n",
    "    X=X_test_reshaped,\n",
    "    Y=y_test_reshaped,\n",
    "    pred=preds,\n",
    "    index=random_index,\n",
    ")"
   ]
  },
  {
   "cell_type": "code",
   "execution_count": null,
   "id": "c14e1542-dffe-49eb-a1ef-2a36f3af01a6",
   "metadata": {},
   "outputs": [],
   "source": []
  }
 ],
 "metadata": {
  "kernelspec": {
   "display_name": "Python 3",
   "language": "python",
   "name": "python3"
  },
  "language_info": {
   "codemirror_mode": {
    "name": "ipython",
    "version": 3
   },
   "file_extension": ".py",
   "mimetype": "text/x-python",
   "name": "python",
   "nbconvert_exporter": "python",
   "pygments_lexer": "ipython3",
   "version": "3.8.12"
  }
 },
 "nbformat": 4,
 "nbformat_minor": 5
}
