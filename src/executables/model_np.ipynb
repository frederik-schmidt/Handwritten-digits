{
 "cells": [
  {
   "cell_type": "markdown",
   "id": "c4d078ff-4ac9-4fc9-8e1a-27acd5e879c1",
   "metadata": {},
   "source": [
    "### Import modules"
   ]
  },
  {
   "cell_type": "code",
   "execution_count": 1,
   "id": "fb921d13-764b-48d9-8dca-92d3b7882fb6",
   "metadata": {},
   "outputs": [],
   "source": [
    "from handwritten_digits.data import *\n",
    "from handwritten_digits.utils_np import *\n",
    "from model_np import deep_neural_network_np"
   ]
  },
  {
   "cell_type": "markdown",
   "id": "4dcffb16-5b9b-4389-8461-40416f763e75",
   "metadata": {},
   "source": [
    "### Load data"
   ]
  },
  {
   "cell_type": "code",
   "execution_count": 2,
   "id": "20422a13-c5c2-40ca-abf9-3695b80491bb",
   "metadata": {},
   "outputs": [],
   "source": [
    "X_train, y_train, X_test, y_test = load_and_prepare_mnist_data()"
   ]
  },
  {
   "cell_type": "markdown",
   "id": "8c0366d0-f445-4134-b238-f0cc587131e2",
   "metadata": {},
   "source": [
    "### Define model architecture"
   ]
  },
  {
   "cell_type": "code",
   "execution_count": 3,
   "id": "e9d03466-68fd-4f86-8738-cb2db7dcecc9",
   "metadata": {},
   "outputs": [],
   "source": [
    "layers_dims = [784, 128, 32, 10]"
   ]
  },
  {
   "cell_type": "markdown",
   "id": "168f9ac9-5d52-446f-8c7b-2dacdcd4b396",
   "metadata": {},
   "source": [
    "### Train model"
   ]
  },
  {
   "cell_type": "code",
   "execution_count": 4,
   "id": "92ca69a4-212c-47e6-aeeb-074d253a5013",
   "metadata": {},
   "outputs": [
    {
     "name": "stdout",
     "output_type": "stream",
     "text": [
      "--- Epoch: 1 ---\n",
      "Cost: 0.06848934052849354\n",
      "Accuracy: 0.7969666666666668\n",
      "--- Epoch: 2 ---\n",
      "Cost: 0.030367045142913853\n",
      "Accuracy: 0.9136500000000002\n",
      "--- Epoch: 3 ---\n",
      "Cost: 0.02009573864562941\n",
      "Accuracy: 0.9421166666666668\n",
      "--- Epoch: 4 ---\n",
      "Cost: 0.014498666509798077\n",
      "Accuracy: 0.9579500000000002\n",
      "--- Epoch: 5 ---\n",
      "Cost: 0.011481560590525785\n",
      "Accuracy: 0.9660166666666669\n",
      "--- Epoch: 6 ---\n",
      "Cost: 0.009658294220252706\n",
      "Accuracy: 0.9712000000000002\n",
      "--- Epoch: 7 ---\n",
      "Cost: 0.008495811895812945\n",
      "Accuracy: 0.9739500000000002\n",
      "--- Epoch: 8 ---\n",
      "Cost: 0.007726299824336206\n",
      "Accuracy: 0.9762000000000001\n",
      "--- Epoch: 9 ---\n",
      "Cost: 0.006932970286773237\n",
      "Accuracy: 0.9783666666666669\n",
      "--- Epoch: 10 ---\n",
      "Cost: 0.0065237797398947205\n",
      "Accuracy: 0.9794333333333334\n",
      "--- Epoch: 11 ---\n",
      "Cost: 0.005946188012247644\n",
      "Accuracy: 0.9808499999999999\n",
      "--- Epoch: 12 ---\n",
      "Cost: 0.005086710059811752\n",
      "Accuracy: 0.9837666666666669\n",
      "--- Epoch: 13 ---\n",
      "Cost: 0.004227453907213244\n",
      "Accuracy: 0.9870500000000001\n",
      "--- Epoch: 14 ---\n",
      "Cost: 0.0038834481270200475\n",
      "Accuracy: 0.9880333333333335\n"
     ]
    }
   ],
   "source": [
    "params = deep_neural_network_np(\n",
    "    X=X_train,\n",
    "    Y=y_train,\n",
    "    layers_dims=layers_dims,\n",
    "    optimizer=\"MiniBatchGradientDescent\",\n",
    "    alpha=0.075,\n",
    "    epochs=15,\n",
    ")"
   ]
  },
  {
   "cell_type": "markdown",
   "id": "08c0de5d-1434-4191-a85c-ea49adeb453f",
   "metadata": {},
   "source": [
    "### Evaluate model performance"
   ]
  },
  {
   "cell_type": "code",
   "execution_count": 5,
   "id": "95470901-1472-432f-9523-27f4ef390e00",
   "metadata": {},
   "outputs": [],
   "source": [
    "preds, probs = predict(X_test, params)"
   ]
  },
  {
   "cell_type": "code",
   "execution_count": 6,
   "id": "bb6fe021-d89b-44d2-8a01-e80681db583b",
   "metadata": {},
   "outputs": [
    {
     "data": {
      "text/plain": [
       "0.9723000000000004"
      ]
     },
     "execution_count": 6,
     "metadata": {},
     "output_type": "execute_result"
    }
   ],
   "source": [
    "compute_accuracy(preds, y_test)"
   ]
  },
  {
   "cell_type": "markdown",
   "id": "136eec2b-b1ce-4b14-be0c-a7d2639ae21c",
   "metadata": {},
   "source": [
    "### Evaluate predictions"
   ]
  },
  {
   "cell_type": "code",
   "execution_count": 7,
   "id": "b51f7fb9-a2d0-443e-9004-20f96998a59b",
   "metadata": {},
   "outputs": [
    {
     "name": "stdout",
     "output_type": "stream",
     "text": [
      "Prediction: 9\n",
      "True label: 9\n"
     ]
    },
    {
     "data": {
      "image/png": "[encoded data removed]",
      "text/plain": [
       "<Figure size 432x288 with 1 Axes>"
      ]
     },
     "metadata": {
      "needs_background": "light"
     },
     "output_type": "display_data"
    }
   ],
   "source": [
    "random_index = np.random.randint(0, preds.shape[1])\n",
    "test_prediction(\n",
    "    X=X_test,\n",
    "    Y=y_test,\n",
    "    pred=preds,\n",
    "    index=random_index,\n",
    ")"
   ]
  },
  {
   "cell_type": "code",
   "execution_count": null,
   "id": "2da908c0-56e1-4470-8dd6-d4db84cf7a93",
   "metadata": {},
   "outputs": [],
   "source": []
  }
 ],
 "metadata": {
  "kernelspec": {
   "display_name": "Python 3",
   "language": "python",
   "name": "python3"
  },
  "language_info": {
   "codemirror_mode": {
    "name": "ipython",
    "version": 3
   },
   "file_extension": ".py",
   "mimetype": "text/x-python",
   "name": "python",
   "nbconvert_exporter": "python",
   "pygments_lexer": "ipython3",
   "version": "3.8.12"
  }
 },
 "nbformat": 4,
 "nbformat_minor": 5
}
